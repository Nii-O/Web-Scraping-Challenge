{
 "cells": [
  {
   "cell_type": "code",
   "execution_count": 164,
   "metadata": {},
   "outputs": [],
   "source": [
    "from splinter import Browser\n",
    "from bs4 import BeautifulSoup as soup\n",
    "from webdriver_manager.chrome import ChromeDriverManager\n",
    "import requests\n",
    "import pandas as pd\n",
    "import datetime as dt"
   ]
  },
  {
   "cell_type": "code",
   "execution_count": 165,
   "metadata": {},
   "outputs": [
    {
     "name": "stderr",
     "output_type": "stream",
     "text": [
      "\n",
      "\n",
      "====== WebDriver manager ======\n",
      "Could not get version for google-chrome with the command:  powershell \"$ErrorActionPreference='silentlycontinue' ; (Get-Item -Path \"$env:PROGRAMFILES\\Google\\Chrome\\Application\\chrome.exe\").VersionInfo.FileVersion ; if (-not $? -or $? -match $error) { (Get-Item -Path \"$env:PROGRAMFILES(x86)\\Google\\Chrome\\Application\\chrome.exe\").VersionInfo.FileVersion } if (-not $? -or $? -match $error) { (Get-Item -Path \"$env:LOCALAPPDATA\\Google\\Chrome\\Application\\chrome.exe\").VersionInfo.FileVersion } if (-not $? -or $? -match $error) { reg query \"HKCU\\SOFTWARE\\Google\\Chrome\\BLBeacon\" /v version } if (-not $? -or $? -match $error) { reg query \"HKLM\\SOFTWARE\\Wow6432Node\\Microsoft\\Windows\\CurrentVersion\\Uninstall\\Google Chrome\" /v version }\"\n",
      "Current google-chrome version is UNKNOWN\n",
      "Get LATEST chromedriver version for UNKNOWN google-chrome\n",
      "Trying to download new driver from https://chromedriver.storage.googleapis.com/100.0.4896.60/chromedriver_win32.zip\n",
      "Driver has been saved in cache [C:\\Users\\Owner\\.wdm\\drivers\\chromedriver\\win32\\100.0.4896.60]\n"
     ]
    }
   ],
   "source": [
    "# Set up Splinter\n",
    "executable_path = {'executable_path': ChromeDriverManager().install()}\n",
    "browser = Browser('chrome', **executable_path, headless=False)"
   ]
  },
  {
   "cell_type": "markdown",
   "metadata": {},
   "source": [
    "## Mars News"
   ]
  },
  {
   "cell_type": "code",
   "execution_count": null,
   "metadata": {},
   "outputs": [],
   "source": [
    "url = 'https://redplanetscience.com/'\n",
    "browser.visit(url)\n",
    "\n",
    "browser.is_element_present_by_css('div.list_text', wait_time=1)\n",
    "\n",
    "html = browser.html\n",
    "news_soup = soup(html, 'html.parser')\n",
    "\n",
    "slide_elem = news_soup.select_one('div.list_text')\n",
    "\n",
    "slide_elem.find('div', class_='content_title')\n",
    "\n",
    "news_title = slide_elem.find('div', class_='content_title').get_text()\n",
    "news_p = slide_elem.find('div', class_='article_teaser_body').get_text()\n"
   ]
  },
  {
   "cell_type": "markdown",
   "metadata": {},
   "source": [
    "## Featured Image"
   ]
  },
  {
   "cell_type": "code",
   "execution_count": null,
   "metadata": {},
   "outputs": [],
   "source": [
    "url1 = 'https://spaceimages-mars.com/'\n",
    "browser.visit(url1)\n",
    "\n",
    "html1 = browser.html\n",
    "news_soup1 = soup(html1, 'html.parser')\n",
    "\n",
    "slide_elem1 = news_soup1.select_one('div.floating_text_area')\n",
    "\n",
    "image_url_location = slide_elem1.find('a')\n",
    "image_url= image_url_location['href']\n",
    "featured_image_url= (f'{url1}{image_url}')\n",
    "featured_image_url"
   ]
  },
  {
   "cell_type": "markdown",
   "metadata": {},
   "source": [
    "## Mars Facts"
   ]
  },
  {
   "cell_type": "code",
   "execution_count": null,
   "metadata": {},
   "outputs": [],
   "source": [
    "url2 = 'https://galaxyfacts-mars.com/'\n",
    "tables = pd.read_html(url2)\n",
    "tables_df= tables[0]\n",
    "tables_df=tables_df.rename(columns={0:'Description', 1:'Mars', 2:'Earth'})\n",
    "tables_df.set_index('Description')\n",
    "tables_df.to_html(\"Mars Facts.html\")"
   ]
  },
  {
   "cell_type": "markdown",
   "metadata": {},
   "source": [
    "## Mars Hemispheres"
   ]
  },
  {
   "cell_type": "code",
   "execution_count": null,
   "metadata": {},
   "outputs": [],
   "source": [
    "url3= ['https://marshemispheres.com/cerberus.html', 'https://marshemispheres.com/schiaparelli.html', 'https://marshemispheres.com/syrtis.html', 'https://marshemispheres.com/valles.html']\n",
    "titles_img=[]\n",
    "\n",
    "for item in url3:\n",
    "    browser.visit(item)\n",
    "    html3 = browser.html\n",
    "\n",
    "    news_soup3 = soup(html3, 'html.parser')\n",
    "    \n",
    "    slide_elem3 = news_soup3.select_one('img.wide-image')\n",
    "    slide_elem3_url= item +'/'+ slide_elem3['src']\n",
    "    slide_elem4 = news_soup3.select_one('div', class_='cover')\n",
    "    list1=[slide_elem4.h2.text, slide_elem3_url]\n",
    "    titles_img.append(list1)\n",
    "\n",
    "hemisphere_image_url=[]\n",
    "for title, img in titles_img:\n",
    "    hemisphere_dict={'Title':title, 'img_url': img}\n",
    "    hemisphere_image_url.append(hemisphere_dict)"
   ]
  },
  {
   "cell_type": "code",
   "execution_count": null,
   "metadata": {},
   "outputs": [],
   "source": [
    "hemisphere_image_url"
   ]
  },
  {
   "cell_type": "code",
   "execution_count": 167,
   "metadata": {},
   "outputs": [],
   "source": [
    "def scrape_all():\n",
    "   # Initiate headless driver for deployment\n",
    "   executable_path = {'executable_path': ChromeDriverManager().install()}\n",
    "   browser = Browser('chrome', **executable_path, headless=True)\n",
    "   news_title, news_paragraph = mars_news(browser)\n",
    "   # Run all scraping functions and store results in a dictionary\n",
    "   data = {\n",
    "       \"news_title\": news_title,\n",
    "       \"news_paragraph\": news_paragraph,\n",
    "       \"featured_image\": featured_image(browser),\n",
    "       \"facts\": mars_facts(),\n",
    "       \"hemispheres\": mars_hemisphere(browser),\n",
    "       \"last_modified\": dt.datetime.now()\n",
    "   }\n",
    "   # Stop webdriver and return data\n",
    "   browser.quit()\n",
    "   return data\n",
    "\n",
    "def mars_news(browser):\n",
    "   # Scrape Mars News\n",
    "   # Visit the mars nasa news site\n",
    "   url = 'https://redplanetscience.com/'\n",
    "   browser.visit(url)\n",
    "   # Optional delay for loading the page\n",
    "   browser.is_element_present_by_css('div.list_text', wait_time=1)\n",
    "   # Convert the browser html to a soup object and then quit the browser\n",
    "   html = browser.html\n",
    "   news_soup = soup(html, 'html.parser')\n",
    "   # Add try/except for error handling\n",
    "   try:\n",
    "       slide_elem = news_soup.select_one('div.list_text')\n",
    "       news_title = slide_elem.find(\"div\", class_=\"content_title\").get_text()\n",
    "       news_p = slide_elem.find(\"div\", class_=\"article_teaser_body\").get_text()\n",
    "   except AttributeError:\n",
    "       return None, None\n",
    "   return news_title, news_p\n",
    "\n",
    "#Featured Image\n",
    "def featured_image(browser):\n",
    "    url1 = 'https://spaceimages-mars.com/'\n",
    "    browser.visit(url1)\n",
    "    html1 = browser.html\n",
    "    news_soup1 = soup(html1, 'html.parser')\n",
    "    try:\n",
    "        slide_elem1 = news_soup1.select_one('div.floating_text_area')\n",
    "        image_url_location = slide_elem1.find('a')\n",
    "        image_url= image_url_location['href']\n",
    "    except AttributeError:\n",
    "        return None\n",
    "    featured_image_url= (f'{url1}{image_url}')\n",
    "    return(featured_image_url)\n",
    "\n",
    "\n",
    "def mars_facts():\n",
    "    #Mars Facts\n",
    "    url2 = 'https://galaxyfacts-mars.com/'\n",
    "    tables = pd.read_html(url2)\n",
    "    tables_df= tables[0]\n",
    "    tables_df=tables_df.rename(columns={0:'Description', 1:'Mars', 2:'Earth'})\n",
    "    tables_df.set_index('Description')\n",
    "    tables_df.to_html(\"Mars Facts.html\")\n",
    "    return(tables_df)\n",
    "\n",
    "\n",
    "def mars_hemisphere(browser):\n",
    "    #Mars Hemispheres\n",
    "    url3= ['https://marshemispheres.com/cerberus.html', 'https://marshemispheres.com/schiaparelli.html', 'https://marshemispheres.com/syrtis.html', 'https://marshemispheres.com/valles.html']\n",
    "    titles_img=[]\n",
    "\n",
    "    for item in url3:\n",
    "        browser.visit(item)\n",
    "        html3 = browser.html\n",
    "\n",
    "        news_soup3 = soup(html3, 'html.parser')\n",
    "        try:\n",
    "            slide_elem3 = news_soup3.select_one('img.wide-image')\n",
    "            slide_elem3_url= 'https://marshemispheres.com/'+ slide_elem3['src']\n",
    "            slide_elem4 = news_soup3.select_one('div', class_='cover')\n",
    "        except AttributeError:\n",
    "            return None\n",
    "        list1=[slide_elem4.h2.text, slide_elem3_url]\n",
    "        titles_img.append(list1)\n",
    "\n",
    "    hemisphere_image_url=[]\n",
    "    for title, img in titles_img:\n",
    "        hemisphere_dict={'Title':title, 'img_url': img}\n",
    "        hemisphere_image_url.append(hemisphere_dict)\n",
    "\n",
    "    return(hemisphere_image_url)"
   ]
  },
  {
   "cell_type": "code",
   "execution_count": 168,
   "metadata": {},
   "outputs": [
    {
     "data": {
      "text/plain": [
       "[{'Title': 'Cerberus Hemisphere Enhanced',\n",
       "  'img_url': 'https://marshemispheres.com/images/f5e372a36edfa389625da6d0cc25d905_cerberus_enhanced.tif_full.jpg'},\n",
       " {'Title': 'Schiaparelli Hemisphere Enhanced',\n",
       "  'img_url': 'https://marshemispheres.com/images/3778f7b43bbbc89d6e3cfabb3613ba93_schiaparelli_enhanced.tif_full.jpg'},\n",
       " {'Title': 'Syrtis Major Hemisphere Enhanced',\n",
       "  'img_url': 'https://marshemispheres.com/images/555e6403a6ddd7ba16ddb0e471cadcf7_syrtis_major_enhanced.tif_full.jpg'},\n",
       " {'Title': 'Valles Marineris Hemisphere Enhanced',\n",
       "  'img_url': 'https://marshemispheres.com/images/b3c7c6c9138f57b4756be9b9c43e3a48_valles_marineris_enhanced.tif_full.jpg'}]"
      ]
     },
     "execution_count": 168,
     "metadata": {},
     "output_type": "execute_result"
    }
   ],
   "source": [
    "mars_hemisphere(browser)"
   ]
  },
  {
   "cell_type": "code",
   "execution_count": 161,
   "metadata": {},
   "outputs": [
    {
     "name": "stderr",
     "output_type": "stream",
     "text": [
      "\n",
      "\n",
      "====== WebDriver manager ======\n",
      "Could not get version for google-chrome with the command:  powershell \"$ErrorActionPreference='silentlycontinue' ; (Get-Item -Path \"$env:PROGRAMFILES\\Google\\Chrome\\Application\\chrome.exe\").VersionInfo.FileVersion ; if (-not $? -or $? -match $error) { (Get-Item -Path \"$env:PROGRAMFILES(x86)\\Google\\Chrome\\Application\\chrome.exe\").VersionInfo.FileVersion } if (-not $? -or $? -match $error) { (Get-Item -Path \"$env:LOCALAPPDATA\\Google\\Chrome\\Application\\chrome.exe\").VersionInfo.FileVersion } if (-not $? -or $? -match $error) { reg query \"HKCU\\SOFTWARE\\Google\\Chrome\\BLBeacon\" /v version } if (-not $? -or $? -match $error) { reg query \"HKLM\\SOFTWARE\\Wow6432Node\\Microsoft\\Windows\\CurrentVersion\\Uninstall\\Google Chrome\" /v version }\"\n",
      "Current google-chrome version is UNKNOWN\n",
      "Get LATEST chromedriver version for UNKNOWN google-chrome\n",
      "Trying to download new driver from https://chromedriver.storage.googleapis.com/100.0.4896.60/chromedriver_win32.zip\n",
      "Driver has been saved in cache [C:\\Users\\Owner\\.wdm\\drivers\\chromedriver\\win32\\100.0.4896.60]\n"
     ]
    },
    {
     "data": {
      "text/plain": [
       "{'news_title': \"Follow NASA's Perseverance Rover in Real Time on Its Way to Mars\",\n",
       " 'news_paragraph': \"A crisply rendered web application can show you where the agency's Mars 2020 mission is right now as it makes its way to the Red Planet for a Feb. 18, 2021, landing.\",\n",
       " 'featured_image': 'https://spaceimages-mars.com/image/featured/mars1.jpg',\n",
       " 'facts':                Description             Mars            Earth\n",
       " 0  Mars - Earth Comparison             Mars            Earth\n",
       " 1                Diameter:         6,779 km        12,742 km\n",
       " 2                    Mass:  6.39 × 10^23 kg  5.97 × 10^24 kg\n",
       " 3                   Moons:                2                1\n",
       " 4       Distance from Sun:   227,943,824 km   149,598,262 km\n",
       " 5          Length of Year:   687 Earth days      365.24 days\n",
       " 6             Temperature:     -87 to -5 °C      -88 to 58°C,\n",
       " 'hemispheres': [{'Title': 'Cerberus Hemisphere Enhanced',\n",
       "   'img_url': 'https://marshemispheres.com/cerberus.html/images/f5e372a36edfa389625da6d0cc25d905_cerberus_enhanced.tif_full.jpg'},\n",
       "  {'Title': 'Schiaparelli Hemisphere Enhanced',\n",
       "   'img_url': 'https://marshemispheres.com/schiaparelli.html/images/3778f7b43bbbc89d6e3cfabb3613ba93_schiaparelli_enhanced.tif_full.jpg'},\n",
       "  {'Title': 'Syrtis Major Hemisphere Enhanced',\n",
       "   'img_url': 'https://marshemispheres.com/syrtis.html/images/555e6403a6ddd7ba16ddb0e471cadcf7_syrtis_major_enhanced.tif_full.jpg'},\n",
       "  {'Title': 'Valles Marineris Hemisphere Enhanced',\n",
       "   'img_url': 'https://marshemispheres.com/valles.html/images/b3c7c6c9138f57b4756be9b9c43e3a48_valles_marineris_enhanced.tif_full.jpg'}],\n",
       " 'last_modified': datetime.datetime(2022, 3, 30, 10, 53, 17, 180876)}"
      ]
     },
     "execution_count": 161,
     "metadata": {},
     "output_type": "execute_result"
    }
   ],
   "source": [
    "scrape_all()"
   ]
  }
 ],
 "metadata": {
  "interpreter": {
   "hash": "bbaff3bad43e72ef86a08724e2a04c1dc7b916dad0faa2935f126c230f07c1b0"
  },
  "kernelspec": {
   "display_name": "Python 3.9.7 ('base')",
   "language": "python",
   "name": "python3"
  },
  "language_info": {
   "codemirror_mode": {
    "name": "ipython",
    "version": 3
   },
   "file_extension": ".py",
   "mimetype": "text/x-python",
   "name": "python",
   "nbconvert_exporter": "python",
   "pygments_lexer": "ipython3",
   "version": "3.9.7"
  },
  "orig_nbformat": 4
 },
 "nbformat": 4,
 "nbformat_minor": 2
}
